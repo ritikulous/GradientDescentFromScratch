{
 "cells": [
  {
   "cell_type": "code",
   "execution_count": 20,
   "metadata": {},
   "outputs": [],
   "source": [
    "import numpy as np"
   ]
  },
  {
   "cell_type": "code",
   "execution_count": 21,
   "metadata": {},
   "outputs": [],
   "source": [
    "def stepGradient(points,learning_rate,m,c):\n",
    "    mslope = 0 \n",
    "    cslope = 0\n",
    "    M = len(points)\n",
    "    for i in range(M):\n",
    "        x = points[i,0]\n",
    "        y = points[i,1]\n",
    "        mslope += (-2/M)*(y - m*x - c)*x\n",
    "        cslope += (-2/M)*(y - m*x - c)\n",
    "        new_m = m - learning_rate*mslope\n",
    "        new_c = c - learning_rate*cslope\n",
    "    return new_m,new_c"
   ]
  },
  {
   "cell_type": "code",
   "execution_count": 22,
   "metadata": {},
   "outputs": [],
   "source": [
    "def gd(points,learning_rate,iterations):\n",
    "    m = 0\n",
    "    c = 0\n",
    "    for i in range(iterations):\n",
    "        m,c = stepGradient(points,learning_rate,m,c)\n",
    "        print(i, \"Cost: \",cost(points,m,c))\n",
    "    return m,c"
   ]
  },
  {
   "cell_type": "code",
   "execution_count": 23,
   "metadata": {},
   "outputs": [],
   "source": [
    "def cost(points,m,c):\n",
    "    totalCost = 0\n",
    "    M = len(points)\n",
    "    for i in range(M):\n",
    "        x = points[i,0]\n",
    "        y = points[i,1]\n",
    "        totalCost = (1/M)*(y-m*x-c)**2\n",
    "    return totalCost"
   ]
  },
  {
   "cell_type": "code",
   "execution_count": 31,
   "metadata": {},
   "outputs": [],
   "source": [
    "def run():\n",
    "    data = np.loadtxt(\"data.csv\",delimiter = \",\")\n",
    "    learning_rate = 0.0001\n",
    "    iterations = 50\n",
    "    m,c = gd(data,learning_rate,iterations)\n",
    "    \n",
    "    print(m,c)"
   ]
  },
  {
   "cell_type": "code",
   "execution_count": 32,
   "metadata": {},
   "outputs": [
    {
     "name": "stdout",
     "output_type": "stream",
     "text": [
      "0 Cost:  12.192937893170466\n",
      "1 Cost:  6.564063139421888\n",
      "2 Cost:  4.391712660389443\n",
      "3 Cost:  3.4658737955779153\n",
      "4 Cost:  3.0426819499194493\n",
      "5 Cost:  2.8407714016951293\n",
      "6 Cost:  2.7420953959345558\n",
      "7 Cost:  2.6932499257892393\n",
      "8 Cost:  2.6689086594259086\n",
      "9 Cost:  2.656735381402923\n",
      "10 Cost:  2.6506346230386595\n",
      "11 Cost:  2.647572097954225\n",
      "12 Cost:  2.6460316242510493\n",
      "13 Cost:  2.6452541377184513\n",
      "14 Cost:  2.644859251829688\n",
      "15 Cost:  2.6446562525839465\n",
      "16 Cost:  2.6445494985854983\n",
      "17 Cost:  2.644491020645703\n",
      "18 Cost:  2.6444567582171947\n",
      "19 Cost:  2.644434642557787\n",
      "20 Cost:  2.6444186199071034\n",
      "21 Cost:  2.6444056536356175\n",
      "22 Cost:  2.6443942205322837\n",
      "23 Cost:  2.6443835565340414\n",
      "24 Cost:  2.6443732783762592\n",
      "25 Cost:  2.644363193807988\n",
      "26 Cost:  2.644353206393406\n",
      "27 Cost:  2.644343267758929\n",
      "28 Cost:  2.6443333536396665\n",
      "29 Cost:  2.64432345186401\n",
      "30 Cost:  2.6443135563265003\n",
      "31 Cost:  2.6443036639645463\n",
      "32 Cost:  2.6442937732419165\n",
      "33 Cost:  2.644283883388011\n",
      "34 Cost:  2.644273994016283\n",
      "35 Cost:  2.6442641049328364\n",
      "36 Cost:  2.6442542160404123\n",
      "37 Cost:  2.64424432729022\n",
      "38 Cost:  2.644234438657785\n",
      "39 Cost:  2.6442245501308346\n",
      "40 Cost:  2.6442146617032054\n",
      "41 Cost:  2.6442047733718086\n",
      "42 Cost:  2.6441948851350965\n",
      "43 Cost:  2.6441849969922893\n",
      "44 Cost:  2.644175108942993\n",
      "45 Cost:  2.644165220987018\n",
      "46 Cost:  2.6441553331242615\n",
      "47 Cost:  2.644145445354671\n",
      "48 Cost:  2.644135557678224\n",
      "49 Cost:  2.6441256700949043\n",
      "1.478861741559523 0.03207192079925884\n"
     ]
    }
   ],
   "source": [
    "run()"
   ]
  }
 ],
 "metadata": {
  "kernelspec": {
   "display_name": "Python 3",
   "language": "python",
   "name": "python3"
  },
  "language_info": {
   "codemirror_mode": {
    "name": "ipython",
    "version": 3
   },
   "file_extension": ".py",
   "mimetype": "text/x-python",
   "name": "python",
   "nbconvert_exporter": "python",
   "pygments_lexer": "ipython3",
   "version": "3.6.5"
  }
 },
 "nbformat": 4,
 "nbformat_minor": 2
}
